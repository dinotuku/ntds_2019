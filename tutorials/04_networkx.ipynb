{
 "cells": [
  {
   "cell_type": "markdown",
   "metadata": {},
   "source": [
    "# [NTDS'19] demo 4: Network models with NetwokX\n",
    "[ntds'19]: https://github.com/mdeff/ntds_2019\n",
    "adapted from [NetworkX demo of NTDS 2017](https://github.com/mdeff/ntds_2017/blob/master/demos/04_networkx.ipynb)\n",
    "\n",
    "Effrosyni Simou, [EPFL LTS4](http://lts4.epfl.ch)"
   ]
  },
  {
   "cell_type": "markdown",
   "metadata": {},
   "source": [
    "In this session we will get introduced to NetworkX, explore some of the most common network models, look at their basic properties and compare them."
   ]
  },
  {
   "cell_type": "markdown",
   "metadata": {},
   "source": [
    "# Creating graphs using network models\n",
    "There are many libraries that deal with creation and manipulation of graph data. We will use NetworkX to create basic network models, as they are already implemented in the library. You can find a full documentation of NetworkX 2.3 that you installed in the environment of this class [here](https://networkx.github.io/documentation/stable/)."
   ]
  },
  {
   "cell_type": "code",
   "execution_count": null,
   "metadata": {},
   "outputs": [],
   "source": [
    "%matplotlib inline\n",
    "\n",
    "import random\n",
    "import matplotlib.pyplot as plt\n",
    "import networkx as nx\n",
    "import numpy as np\n",
    "import collections\n",
    "import warnings\n",
    "warnings.filterwarnings('ignore')"
   ]
  },
  {
   "cell_type": "markdown",
   "metadata": {},
   "source": [
    "Create an Erdos Renyi graph with $N=100$ vertices, and a probability of connecting each pair of vertices equal to $p=0.15$."
   ]
  },
  {
   "cell_type": "code",
   "execution_count": null,
   "metadata": {},
   "outputs": [],
   "source": [
    "N = 100  # number of nodes\n",
    "p = 0.15  # probability of connection\n",
    "er = nx.erdos_renyi_graph(N,p)"
   ]
  },
  {
   "cell_type": "markdown",
   "metadata": {},
   "source": [
    "You can retrieve the adjacency matrix of the graph, from the Graph object ``er`` as follows:"
   ]
  },
  {
   "cell_type": "code",
   "execution_count": null,
   "metadata": {},
   "outputs": [],
   "source": [
    "er_adj = nx.adjacency_matrix(er, range(N))\n",
    "er_adj = er_adj.todense()"
   ]
  },
  {
   "cell_type": "markdown",
   "metadata": {},
   "source": [
    "You can now visualise the adjacency matrix:"
   ]
  },
  {
   "cell_type": "code",
   "execution_count": null,
   "metadata": {},
   "outputs": [],
   "source": [
    "plt.spy(er_adj);"
   ]
  },
  {
   "cell_type": "markdown",
   "metadata": {},
   "source": [
    "# Plot graphs using NetworkX"
   ]
  },
  {
   "cell_type": "markdown",
   "metadata": {},
   "source": [
    "With NetworkX and Matplotlib we can also plot a graph. For example, we can plot the Erdos Renyi graph that we created before as follows:"
   ]
  },
  {
   "cell_type": "code",
   "execution_count": null,
   "metadata": {},
   "outputs": [],
   "source": [
    "nx.draw(er)"
   ]
  },
  {
   "cell_type": "markdown",
   "metadata": {},
   "source": [
    "It's easy to add or remove edges, but also nodes. If we add an edge between nodes that don't yet exist, they will be automatically created."
   ]
  },
  {
   "cell_type": "code",
   "execution_count": null,
   "metadata": {},
   "outputs": [],
   "source": [
    "er.add_node(100)"
   ]
  },
  {
   "cell_type": "code",
   "execution_count": null,
   "metadata": {},
   "outputs": [],
   "source": [
    "er.nodes()"
   ]
  },
  {
   "cell_type": "markdown",
   "metadata": {},
   "source": [
    "Similarly, you can add and remove a collection of nodes or edges, and add and remove one node or edge:\n",
    "* Adding nodes with:\n",
    "    - **G.add_node** : One node at a time\n",
    "    - **G.add_nodes_from** : A container of nodes\n",
    "* Adding edges with:\n",
    "    - **G.add_edge**: One edge at a time\n",
    "    - **G.add_edges_from** : A container of edges\n",
    "    \n",
    "    \n",
    "* Removing nodes with:\n",
    "    - **G.remove_node** : One node at a time\n",
    "    - **G.remove_nodes_from** : A container of nodes\n",
    "* Removing edges with:\n",
    "    - **G.remove_edge**: One edge at a time\n",
    "    - **G.remove_edges_from** : A container of edges\n",
    "    \n",
    "You can check the number of edges with **G.size()**."
   ]
  },
  {
   "cell_type": "markdown",
   "metadata": {},
   "source": [
    "Add an edge between two non-existant vertices. Remove all nodes up to node 50. Draw the graph after each change."
   ]
  },
  {
   "cell_type": "code",
   "execution_count": null,
   "metadata": {},
   "outputs": [],
   "source": [
    "er.add_edge(101,102)\n",
    "nx.draw(er)"
   ]
  },
  {
   "cell_type": "code",
   "execution_count": null,
   "metadata": {},
   "outputs": [],
   "source": [
    "er.remove_nodes_from(range(50))\n",
    "nx.draw(er)\n",
    "er.nodes()"
   ]
  },
  {
   "cell_type": "code",
   "execution_count": null,
   "metadata": {},
   "outputs": [],
   "source": [
    "er.size()"
   ]
  },
  {
   "cell_type": "markdown",
   "metadata": {},
   "source": [
    "## Exercise:\n",
    "Create a Barabasi-Albert graph and a Watts-Strogatz graph and plot them."
   ]
  },
  {
   "cell_type": "code",
   "execution_count": null,
   "metadata": {},
   "outputs": [],
   "source": [
    "# Create a Barabasi-Albert graph\n",
    "ba = # your code here"
   ]
  },
  {
   "cell_type": "code",
   "execution_count": null,
   "metadata": {},
   "outputs": [],
   "source": [
    "# Create a Watts-Strogartz graph\n",
    "ws = # your code here"
   ]
  },
  {
   "cell_type": "markdown",
   "metadata": {},
   "source": [
    "# Degree distribution of known network models"
   ]
  },
  {
   "cell_type": "markdown",
   "metadata": {},
   "source": [
    "**G.degree()** returns a ``DegreeView`` object with pairs of nodes  and their degree. If we specify a node, **G.degree()** will return the degree of that node."
   ]
  },
  {
   "cell_type": "markdown",
   "metadata": {},
   "source": [
    "Create an Erdos-Renyi network and plot a histogram of node degrees.  "
   ]
  },
  {
   "cell_type": "code",
   "execution_count": null,
   "metadata": {},
   "outputs": [],
   "source": [
    "N = 100  # number of nodes\n",
    "p = 0.15  # probability of connection\n",
    "er = nx.erdos_renyi_graph(N,p)"
   ]
  },
  {
   "cell_type": "code",
   "execution_count": null,
   "metadata": {},
   "outputs": [],
   "source": [
    "d = er.degree()"
   ]
  },
  {
   "cell_type": "code",
   "execution_count": null,
   "metadata": {},
   "outputs": [],
   "source": [
    "print(d)"
   ]
  },
  {
   "cell_type": "code",
   "execution_count": null,
   "metadata": {},
   "outputs": [],
   "source": [
    "# Erdos-Renyi node degree histogram\n",
    "degree_sequence = sorted([d for n, d in er.degree()], reverse=True)  # degree sequence\n",
    "degreeCount = collections.Counter(degree_sequence)\n",
    "deg, cnt = zip(*degreeCount.items())\n",
    "\n",
    "fig, ax = plt.subplots()\n",
    "plt.bar(deg, cnt, width=0.80, color='b');\n",
    "plt.title(\"Degree Histogram\");\n",
    "plt.ylabel(\"Count\");\n",
    "plt.xlabel(\"Degree\");"
   ]
  },
  {
   "cell_type": "markdown",
   "metadata": {},
   "source": [
    "## Exercise: \n",
    "Try to fit a Poisson distribution."
   ]
  },
  {
   "cell_type": "code",
   "execution_count": null,
   "metadata": {},
   "outputs": [],
   "source": [
    "# Poisson distribution\n",
    "def poisson(mu,k):\n",
    "    return np.exp(-mu) * mu**k * (np.math.factorial(k)**-1)"
   ]
  },
  {
   "cell_type": "code",
   "execution_count": null,
   "metadata": {},
   "outputs": [],
   "source": [
    "# Erdos-Renyi node degree histogram\n",
    "degree_sequence = sorted([d for n, d in er.degree()], reverse=True)  # degree sequence\n",
    "degreeCount = collections.Counter(degree_sequence)\n",
    "deg, cnt = zip(*degreeCount.items())\n",
    "\n",
    "fig, ax = plt.subplots()\n",
    "plt.bar(deg, cnt, width=0.80, color='b')\n",
    "\n",
    "# Poisson distribution\n",
    "mu = 2*er.size()/100;\n",
    "k = np.linspace(1,25,25);\n",
    "deg = [100*poisson(mu,i) for i in k]\n",
    "plt.plot(k, deg);\n",
    "\n",
    "plt.title(\"Degree Histogram\");\n",
    "plt.ylabel(\"Count\");\n",
    "plt.xlabel(\"Degree\");"
   ]
  },
  {
   "cell_type": "markdown",
   "metadata": {},
   "source": [
    "## Exercise: \n",
    "Repeat the same exercise for the Barabasi-Albert and Watts-Strogatz networks."
   ]
  },
  {
   "cell_type": "code",
   "execution_count": null,
   "metadata": {},
   "outputs": [],
   "source": [
    "# your code here"
   ]
  },
  {
   "cell_type": "markdown",
   "metadata": {},
   "source": [
    "# Create a Random manifold-based network"
   ]
  },
  {
   "cell_type": "markdown",
   "metadata": {},
   "source": [
    "We can also create a graph on our own. This sort of manifold-based graph is often used in practice when we need a graph representation of data laying on a manifold. Generate 100 two-dimensional data points, both values between 0 and 1. They should come from a uniform random distribution. These will be the coordinates of your nodes. Connect the nodes if their Eucledian distance is smaller than the threshold 0.2. In that case, the weight of the edge should be equal to $w(i,j) = \\exp \\left(-{\\frac {dist(i,j)^{2}}{2\\theta ^{2}}}\\right)$. For this experiment, set $\\theta$ to 0.9. "
   ]
  },
  {
   "cell_type": "code",
   "execution_count": null,
   "metadata": {},
   "outputs": [],
   "source": [
    "def random_gaussian(nodes_coords, theta, threshold):\n",
    "    adj = np.zeros((len(nodes_coords),len(nodes_coords)))\n",
    "    for i in range(len(nodes_coords)):\n",
    "        for j in range(i+1, len(nodes_coords)):\n",
    "            arr = np.linalg.norm(nodes_coords[i]-nodes_coords[j])\n",
    "            if (arr<threshold):\n",
    "                d = np.exp(-arr/(2*theta**2))\n",
    "                adj[i][j] = d\n",
    "                adj[j][i] = d\n",
    "    return adj"
   ]
  },
  {
   "cell_type": "code",
   "execution_count": null,
   "metadata": {},
   "outputs": [],
   "source": [
    "# generate the coordinates of the nodes \n",
    "nodes_coords = np.random.rand(100, 2)"
   ]
  },
  {
   "cell_type": "code",
   "execution_count": null,
   "metadata": {},
   "outputs": [],
   "source": [
    "# generate the adjacency matrix of the manifold-based graph\n",
    "adj = random_gaussian(nodes_coords, theta=0.9, threshold=0.2)"
   ]
  },
  {
   "cell_type": "code",
   "execution_count": null,
   "metadata": {},
   "outputs": [],
   "source": [
    "# plot the adjacency matrix\n",
    "plt.spy(adj);"
   ]
  },
  {
   "cell_type": "markdown",
   "metadata": {},
   "source": [
    "Plot the graph using NetworkX. \n",
    "* Hints: \n",
    "    - `nx.from_numpy_array(adj)` creates a graph object from an adjacency matrix (in numpy form)\n",
    "    - `nx.draw(G,pos)` will draw vertices at coordinates specified in pos. Variable pos is a dictionary assigning a pair of coordinates to each node."
   ]
  },
  {
   "cell_type": "code",
   "execution_count": null,
   "metadata": {},
   "outputs": [],
   "source": [
    "g = nx.from_numpy_matrix(adj)\n",
    "plt.spy(nx.adjacency_matrix(g).todense());"
   ]
  },
  {
   "cell_type": "code",
   "execution_count": null,
   "metadata": {},
   "outputs": [],
   "source": [
    "pos = dict(zip(range(100),nodes_coords))"
   ]
  },
  {
   "cell_type": "code",
   "execution_count": null,
   "metadata": {},
   "outputs": [],
   "source": [
    "nx.draw(g, pos)"
   ]
  },
  {
   "cell_type": "markdown",
   "metadata": {},
   "source": [
    "Plot a degree distribution of this graph. What can you say about the distribution?"
   ]
  },
  {
   "cell_type": "code",
   "execution_count": null,
   "metadata": {},
   "outputs": [],
   "source": [
    "# node degree histogram\n",
    "degree_sequence = sorted([d for n, d in g.degree()], reverse=True)  # degree sequence\n",
    "degreeCount = collections.Counter(degree_sequence)\n",
    "deg, cnt = zip(*degreeCount.items())\n",
    "\n",
    "fig, ax = plt.subplots()\n",
    "plt.bar(deg, cnt, width=0.80, color='b');\n",
    "plt.title(\"Degree Histogram\");\n",
    "plt.ylabel(\"Count\");\n",
    "plt.xlabel(\"Degree\");"
   ]
  }
 ],
 "metadata": {
  "kernelspec": {
   "display_name": "Python 3",
   "language": "python",
   "name": "python3"
  },
  "language_info": {
   "codemirror_mode": {
    "name": "ipython",
    "version": 3
   },
   "file_extension": ".py",
   "mimetype": "text/x-python",
   "name": "python",
   "nbconvert_exporter": "python",
   "pygments_lexer": "ipython3",
   "version": "3.7.4"
  }
 },
 "nbformat": 4,
 "nbformat_minor": 2
}
